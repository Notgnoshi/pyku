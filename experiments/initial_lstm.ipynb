{
 "cells": [
  {
   "cell_type": "markdown",
   "metadata": {},
   "source": [
    "# Generating haikus with an LSTM model"
   ]
  },
  {
   "cell_type": "code",
   "execution_count": 1,
   "metadata": {},
   "outputs": [
    {
     "name": "stderr",
     "output_type": "stream",
     "text": [
      "Using TensorFlow backend.\n"
     ]
    }
   ],
   "source": [
    "import random\n",
    "import sys\n",
    "\n",
    "from IPython import display\n",
    "import matplotlib.pyplot as plt\n",
    "import numpy as np\n",
    "\n",
    "# Hack to keep keras from allocating the whole damn gpu.\n",
    "import tensorflow as tf\n",
    "from keras.backend.tensorflow_backend import set_session\n",
    "\n",
    "config = tf.ConfigProto()\n",
    "config.gpu_options.allow_growth = True\n",
    "config.gpu_options.visible_device_list = \"0\"\n",
    "#session = tf.Session(config=config)\n",
    "set_session(tf.Session(config=config))\n",
    "\n",
    "from keras.callbacks import LambdaCallback\n",
    "from keras.layers.core import Dense, Dropout\n",
    "from keras.layers.recurrent import LSTM\n",
    "from keras.models import Sequential\n",
    "from keras.preprocessing.sequence import pad_sequences\n",
    "\n",
    "%matplotlib inline"
   ]
  },
  {
   "cell_type": "code",
   "execution_count": 2,
   "metadata": {},
   "outputs": [
    {
     "name": "stdout",
     "output_type": "stream",
     "text": [
      "corpus length: 405710\n"
     ]
    }
   ],
   "source": [
    "dataset = '../data/haikus.txt'\n",
    "with open(dataset, 'r') as f:\n",
    "    text = f.read()\n",
    "\n",
    "print(f'corpus length: {len(text)}')"
   ]
  },
  {
   "cell_type": "code",
   "execution_count": 3,
   "metadata": {},
   "outputs": [
    {
     "name": "stdout",
     "output_type": "stream",
     "text": [
      "total characters: 29\n"
     ]
    }
   ],
   "source": [
    "chars = sorted(list(set(text)))\n",
    "# should be: the 26 alphabet chars, ' ', '\\t', and '\\n'.\n",
    "print(f'total characters: {len(chars)}')\n",
    "\n",
    "char_indices = dict((c, i) for i, c in enumerate(chars))\n",
    "indices_char = dict((i, c) for i, c in enumerate(chars))"
   ]
  },
  {
   "cell_type": "code",
   "execution_count": 4,
   "metadata": {},
   "outputs": [
    {
     "name": "stdout",
     "output_type": "stream",
     "text": [
      "num sequences: 135222\n"
     ]
    }
   ],
   "source": [
    "# cut the text in semi-redundant sequences of maxlen characters\n",
    "maxlen = 45\n",
    "step = 3\n",
    "sentences = []\n",
    "next_chars = []\n",
    "for i in range(0, len(text) - maxlen, step):\n",
    "    sentences.append(text[i: i + maxlen])\n",
    "    next_chars.append(text[i + maxlen])\n",
    "print('num sequences:', len(sentences))"
   ]
  },
  {
   "cell_type": "code",
   "execution_count": 5,
   "metadata": {},
   "outputs": [
    {
     "name": "stdout",
     "output_type": "stream",
     "text": [
      "X shape: (135222, 45, 29), Y shape: (135222, 29)\n"
     ]
    }
   ],
   "source": [
    "# Vectorize the sequences\n",
    "X = np.zeros((len(sentences), maxlen, len(chars)), dtype=np.bool)\n",
    "y = np.zeros((len(sentences), len(chars)), dtype=np.bool)\n",
    "for i, sentence in enumerate(sentences):\n",
    "    for t, char in enumerate(sentence):\n",
    "        X[i, t, char_indices[char]] = 1\n",
    "    y[i, char_indices[next_chars[i]]] = 1\n",
    "\n",
    "print(f'X shape: {X.shape}, Y shape: {y.shape}')"
   ]
  },
  {
   "cell_type": "code",
   "execution_count": 6,
   "metadata": {},
   "outputs": [],
   "source": [
    "model = Sequential()\n",
    "model.add(LSTM(256, input_shape=(maxlen, len(chars))))\n",
    "model.add(Dense(len(chars), activation='softmax'))\n",
    "\n",
    "model.compile(loss='categorical_crossentropy', optimizer='rmsprop')"
   ]
  },
  {
   "cell_type": "code",
   "execution_count": 7,
   "metadata": {},
   "outputs": [],
   "source": [
    "def sample(preds, temperature=1.0):\n",
    "    \"\"\"helper function to sample an index from a probability array\"\"\"\n",
    "    preds = np.asarray(preds).astype('float64')\n",
    "    preds = np.log(preds) / temperature\n",
    "    exp_preds = np.exp(preds)\n",
    "    preds = exp_preds / np.sum(exp_preds)\n",
    "    probas = np.random.multinomial(1, preds, 1)\n",
    "    return np.argmax(probas)"
   ]
  },
  {
   "cell_type": "code",
   "execution_count": 8,
   "metadata": {},
   "outputs": [],
   "source": [
    "def generation_cb(epoch, logs):\n",
    "    \"\"\"\n",
    "        Function invoked at end of each epoch. Prints generated text.\n",
    "        Generates sequences of text given some sequence of the training\n",
    "        data.\n",
    "    \"\"\"\n",
    "    display.clear_output(wait=True)\n",
    "    log = open('output.txt', 'a')\n",
    "    log.write(f'\\n----- Generating text after Epoch: {epoch}\\n')\n",
    "\n",
    "    start_index = random.randint(0, len(text) - maxlen - 1)\n",
    "    for diversity in [0.1, 0.2, 0.5, 1.0]:\n",
    "        log.write(f'\\n\\n----- diversity: {diversity}\\n')\n",
    "\n",
    "        generated = ''\n",
    "        sentence = text[start_index: start_index + maxlen].replace('\\n', ' ')\n",
    "        generated += sentence\n",
    "        log.write(f'----- Generating with seed: \"{sentence}\"\\n')\n",
    "        log.write(f'----- Generated:\\n')\n",
    "        log.write(generated)\n",
    "\n",
    "        # Generate N characters\n",
    "        N = 400\n",
    "        for _ in range(N):\n",
    "            X_pred = np.zeros((1, maxlen, len(chars)))\n",
    "            for t, c in enumerate(sentence):\n",
    "                X_pred[0, t, char_indices[c]] = 1.\n",
    "\n",
    "            preds = model.predict(X_pred, verbose=0)[0]\n",
    "            next_index = sample(preds, diversity)\n",
    "            next_char = indices_char[next_index]\n",
    "\n",
    "            generated += next_char\n",
    "            sentence = sentence[1:] + next_char\n",
    "            # Write a character at a time so watching the output file is more interesting\n",
    "            log.write(next_char)\n",
    "    log.close()"
   ]
  },
  {
   "cell_type": "code",
   "execution_count": null,
   "metadata": {},
   "outputs": [
    {
     "name": "stdout",
     "output_type": "stream",
     "text": [
      "Epoch 1/45\n",
      "135222/135222 [==============================] - 29s 215us/step - loss: 2.4081\n",
      "Epoch 2/45\n",
      "135222/135222 [==============================] - 29s 214us/step - loss: 2.0348\n",
      "Epoch 3/45\n",
      "135222/135222 [==============================] - 29s 215us/step - loss: 1.8743\n",
      "Epoch 4/45\n",
      "135222/135222 [==============================] - 29s 214us/step - loss: 1.7636\n",
      "Epoch 5/45\n",
      "135222/135222 [==============================] - 29s 214us/step - loss: 1.6785\n",
      "Epoch 6/45\n",
      "135222/135222 [==============================] - 29s 215us/step - loss: 1.6069\n",
      "Epoch 7/45\n",
      "135222/135222 [==============================] - 29s 215us/step - loss: 1.5425\n",
      "Epoch 8/45\n",
      "135222/135222 [==============================] - 29s 215us/step - loss: 1.4828\n",
      "Epoch 9/45\n",
      "135222/135222 [==============================] - 29s 215us/step - loss: 1.4234\n",
      "Epoch 10/45\n",
      "135222/135222 [==============================] - 29s 215us/step - loss: 1.3659\n",
      "Epoch 11/45\n",
      "135222/135222 [==============================] - 29s 215us/step - loss: 1.3078\n",
      "Epoch 12/45\n",
      "135222/135222 [==============================] - 29s 215us/step - loss: 1.2502\n",
      "Epoch 13/45\n",
      "135222/135222 [==============================] - 29s 215us/step - loss: 1.1924\n",
      "Epoch 14/45\n",
      "135222/135222 [==============================] - 29s 215us/step - loss: 1.1388\n",
      "Epoch 15/45\n",
      "135222/135222 [==============================] - 29s 215us/step - loss: 1.0850\n",
      "Epoch 16/45\n",
      "135222/135222 [==============================] - 29s 215us/step - loss: 1.0356\n",
      "Epoch 17/45\n",
      "135222/135222 [==============================] - 29s 215us/step - loss: 0.9901\n",
      "Epoch 18/45\n",
      "135222/135222 [==============================] - 29s 214us/step - loss: 0.9490\n",
      "Epoch 19/45\n",
      "135222/135222 [==============================] - 29s 214us/step - loss: 0.9101\n",
      "Epoch 20/45\n",
      "135222/135222 [==============================] - 29s 214us/step - loss: 0.8729\n",
      "Epoch 21/45\n",
      "135222/135222 [==============================] - 29s 214us/step - loss: 0.8436\n",
      "Epoch 22/45\n",
      "135222/135222 [==============================] - 29s 215us/step - loss: 0.8144\n",
      "Epoch 23/45\n",
      "135222/135222 [==============================] - 29s 215us/step - loss: 0.7901\n",
      "Epoch 24/45\n",
      "135222/135222 [==============================] - 29s 214us/step - loss: 0.7675\n",
      "Epoch 25/45\n",
      "135222/135222 [==============================] - 29s 215us/step - loss: 0.7463\n",
      "Epoch 26/45\n",
      "135222/135222 [==============================] - 29s 214us/step - loss: 0.7264\n",
      "Epoch 27/45\n",
      "135222/135222 [==============================] - 29s 214us/step - loss: 0.7079\n",
      "Epoch 28/45\n",
      "135222/135222 [==============================] - 29s 214us/step - loss: 0.6938\n",
      "Epoch 29/45\n",
      "135222/135222 [==============================] - 29s 215us/step - loss: 0.6785\n",
      "Epoch 30/45\n",
      "135222/135222 [==============================] - 29s 214us/step - loss: 0.6628\n",
      "Epoch 31/45\n",
      "135222/135222 [==============================] - 29s 214us/step - loss: 0.6539\n",
      "Epoch 32/45\n",
      "135222/135222 [==============================] - 29s 214us/step - loss: 0.6384\n",
      "Epoch 33/45\n",
      "135222/135222 [==============================] - 29s 214us/step - loss: 0.6260\n",
      "Epoch 34/45\n",
      "135222/135222 [==============================] - 29s 214us/step - loss: 0.6154\n",
      "Epoch 35/45\n",
      "135222/135222 [==============================] - 29s 214us/step - loss: 0.6054\n",
      "Epoch 36/45\n",
      "135222/135222 [==============================] - 29s 215us/step - loss: 0.5946\n",
      "Epoch 37/45\n",
      "135222/135222 [==============================] - 29s 214us/step - loss: 0.5881\n",
      "Epoch 38/45\n",
      "135222/135222 [==============================] - 29s 214us/step - loss: 0.5808\n",
      "Epoch 39/45\n",
      "135222/135222 [==============================] - 29s 214us/step - loss: 0.5681\n",
      "Epoch 40/45\n",
      "135222/135222 [==============================] - 29s 214us/step - loss: 0.5612\n",
      "Epoch 41/45\n",
      "135222/135222 [==============================] - 29s 214us/step - loss: 0.5508\n",
      "Epoch 42/45\n",
      "114048/135222 [========================>.....] - ETA: 4s - loss: 0.5316"
     ]
    }
   ],
   "source": [
    "print_callback = LambdaCallback(on_epoch_end=generation_cb)\n",
    "\n",
    "h = model.fit(X, y,\n",
    "              batch_size=128,\n",
    "              epochs=45)\n",
    "#               callbacks=[print_callback])"
   ]
  },
  {
   "cell_type": "code",
   "execution_count": null,
   "metadata": {},
   "outputs": [],
   "source": [
    "print(h.history.keys())\n",
    "plt.plot(h.history['loss'], label='training loss')\n",
    "plt.ylabel('loss')\n",
    "plt.xlabel('iteration')\n",
    "plt.title('training loss')\n",
    "plt.legend()\n",
    "plt.show()"
   ]
  },
  {
   "cell_type": "code",
   "execution_count": null,
   "metadata": {},
   "outputs": [],
   "source": [
    "def generate_from_model(model, corpus, maxlen, diversities=[0.05, 0.1, 0.2, 0.5, 1.0, 1.2], verbose=True):\n",
    "    \"\"\"\n",
    "        Given a trained model, generate sequences of text.\n",
    "        Returns a list of generated text for several different\n",
    "        sampling diversities.\n",
    "    \"\"\"\n",
    "    start_index = random.randint(0, len(corpus) - maxlen - 1)\n",
    "    samples = []\n",
    "    for diversity in diversities:\n",
    "        if verbose:\n",
    "            print(f'\\n----- diversity: {diversity}')\n",
    "\n",
    "        generated = ''\n",
    "        sentence = corpus[start_index : start_index + maxlen]\n",
    "        generated += sentence\n",
    "        if verbose:\n",
    "            print(f'----- Generating with seed: \"{sentence}\"')\n",
    "            print(f'----- Generated:')\n",
    "\n",
    "        tot_lines = 0\n",
    "        tot_chars = 0\n",
    "\n",
    "        while True:\n",
    "            if tot_lines > 3 or tot_chars > 120:\n",
    "                break\n",
    "            x = np.zeros((1, maxlen, len(chars)))\n",
    "            for t, char in enumerate(sentence):\n",
    "                x[0, t, char_indices[char]] = 1.\n",
    "\n",
    "            preds = model.predict(x, verbose=0)[0]\n",
    "            next_index = sample(preds, diversity)\n",
    "            next_char = indices_char[next_index]\n",
    "\n",
    "            tot_chars += 1\n",
    "            generated += next_char\n",
    "            if next_char == '\\n':\n",
    "                tot_lines += 1\n",
    "            sentence = sentence[1:] + next_char\n",
    "        if verbose:\n",
    "            print(generated)\n",
    "        samples.append(generated)\n",
    "    return samples"
   ]
  },
  {
   "cell_type": "code",
   "execution_count": null,
   "metadata": {},
   "outputs": [],
   "source": [
    "samples = [generate_from_model(model, corpus=text, maxlen=maxlen, diversities=[0.2], verbose=False) for _ in range(10)]\n",
    "\n",
    "for s in samples:\n",
    "    for diversity in s:\n",
    "        print(diversity)\n",
    "#         print('-'*5)\n",
    "    print('='*10)"
   ]
  }
 ],
 "metadata": {
  "kernelspec": {
   "display_name": "Python 3",
   "language": "python",
   "name": "python3"
  },
  "language_info": {
   "codemirror_mode": {
    "name": "ipython",
    "version": 3
   },
   "file_extension": ".py",
   "mimetype": "text/x-python",
   "name": "python",
   "nbconvert_exporter": "python",
   "pygments_lexer": "ipython3",
   "version": "3.6.3"
  }
 },
 "nbformat": 4,
 "nbformat_minor": 2
}
